{
 "cells": [
  {
   "cell_type": "code",
   "execution_count": 1,
   "id": "929ceeb3-4823-4fa5-a8a5-712f609873d1",
   "metadata": {},
   "outputs": [],
   "source": [
    "import sys, os\n",
    "sys.path.append(os.path.abspath('src'))"
   ]
  },
  {
   "cell_type": "code",
   "execution_count": 2,
   "id": "e7d75f3c-cd92-4582-a63d-cd2a0e51623b",
   "metadata": {},
   "outputs": [
    {
     "name": "stdout",
     "output_type": "stream",
     "text": [
      "Hello world!\n"
     ]
    }
   ],
   "source": [
    "from hello_world import print_hello_world\n",
    "print_hello_world()"
   ]
  },
  {
   "cell_type": "code",
   "execution_count": null,
   "id": "e156e1f5-fd76-49f7-901d-f4fe94263d5e",
   "metadata": {},
   "outputs": [],
   "source": []
  }
 ],
 "metadata": {
  "kernelspec": {
   "display_name": "Python 3 (ipykernel)",
   "language": "python",
   "name": "python3"
  },
  "language_info": {
   "codemirror_mode": {
    "name": "ipython",
    "version": 3
   },
   "file_extension": ".py",
   "mimetype": "text/x-python",
   "name": "python",
   "nbconvert_exporter": "python",
   "pygments_lexer": "ipython3",
   "version": "3.11.7"
  }
 },
 "nbformat": 4,
 "nbformat_minor": 5
}
